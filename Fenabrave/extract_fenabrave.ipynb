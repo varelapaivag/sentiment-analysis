{
 "cells": [
  {
   "cell_type": "code",
   "execution_count": 1,
   "metadata": {},
   "outputs": [],
   "source": [
    "from tabula.io import read_pdf\n",
    "import pandas as pd\n",
    "import re\n",
    "import tabula"
   ]
  },
  {
   "cell_type": "markdown",
   "metadata": {},
   "source": [
    "#### Função"
   ]
  },
  {
   "cell_type": "code",
   "execution_count": 2,
   "metadata": {},
   "outputs": [],
   "source": [
    "# Padronzinação de extração de valores para os PDFs 5-9/11-12\n",
    "def remover_valores(test):\n",
    "    test = test.iloc[2:,:1]\n",
    "    test.columns = ['carros_emplacados']\n",
    "\n",
    "    # retirada dos valores de colocação \n",
    "    for column in test.columns:\n",
    "        test[column] = test[column].apply(lambda x: x[3:] if isinstance(x, str) else x)\n",
    "\n",
    "    # Aplicando a função lambda para remover os números seguidos de \"o\" e um espaço, juntamente com os valores a frente\n",
    "    for column in test.columns:\n",
    "        test[column] = test[column].apply(lambda x: re.sub(r'\\d+o\\s.*?(?=\\d+o\\s|\\Z)', '', x) if isinstance(x, str) else x)\n",
    "\n",
    "    #Captação de valores de emplacamento\n",
    "    test['quantidade'] = test['carros_emplacados'].apply(lambda x: re.findall(r'\\s(\\d+(?:\\.\\d+)*)\\s(?!\\d)', x)[0] if isinstance(x, str) else None)\n",
    "\n",
    "\n",
    "    #retirada dos valores de emplacamento da coluna carros_emplacados\n",
    "    test['carros_emplacados'] = test['carros_emplacados'].apply(lambda x: x.rstrip())\n",
    "    test['carros_emplacados'] = test['carros_emplacados'].apply(lambda x: ' '.join(x.split(' ')[:-1]))\n",
    "\n",
    "\n",
    "    return test\n"
   ]
  },
  {
   "cell_type": "markdown",
   "metadata": {},
   "source": [
    "#### Captação de dados - PDF"
   ]
  },
  {
   "cell_type": "code",
   "execution_count": 3,
   "metadata": {},
   "outputs": [
    {
     "name": "stderr",
     "output_type": "stream",
     "text": [
      "Error importing jpype dependencies. Fallback to subprocess.\n",
      "No module named 'jpype'\n"
     ]
    },
    {
     "name": "stdout",
     "output_type": "stream",
     "text": [
      "1\n",
      "2\n",
      "3\n",
      "nao foi possivel ler o pdf 4\n",
      "5\n",
      "6\n",
      "7\n",
      "8\n",
      "9\n",
      "nao foi possivel ler o pdf 10\n",
      "11\n",
      "12\n"
     ]
    }
   ],
   "source": [
    "carro = {}\n",
    "carro_acumulado = {}\n",
    "marca_acumulado = {}\n",
    "\n",
    "pdf_nao_lido = []\n",
    "\n",
    "for i in range(1, 13):\n",
    "\n",
    "    try:\n",
    "        pdf_path = f\"C:\\\\Users\\\\guga1\\\\Documents\\\\TCC\\\\fenabrave\\\\2022_0{i}_2.pdf\"\n",
    "        \n",
    "        carro[i] = tabula.io.read_pdf(pdf_path, pages = 6)[0].iloc[:,:3]\n",
    "        carro_acumulado[i] = tabula.io.read_pdf(pdf_path, pages = 7)[0]\n",
    "\n",
    "        print(i)\n",
    "    \n",
    "    except Exception as e:\n",
    "        pdf_nao_lido.append(pdf_path)\n",
    "        print(f'nao foi possivel ler o pdf {i}')\n",
    "\n"
   ]
  },
  {
   "cell_type": "markdown",
   "metadata": {},
   "source": [
    "#### 1º Parte\n",
    "\n",
    "- Os pdfs 1/4 e 10 possuem uma extração diferente através da biblioteca utilizada. Para resolver este tipo de problema, sera abordado outros tipo de codigo condizente com a resolução de problema estabelecido\n",
    "\n",
    "\n"
   ]
  },
  {
   "cell_type": "code",
   "execution_count": 4,
   "metadata": {},
   "outputs": [
    {
     "name": "stdout",
     "output_type": "stream",
     "text": [
      "nao funcionou4\n",
      "nao funcionou10\n"
     ]
    }
   ],
   "source": [
    "dados_carros = pd.DataFrame()\n",
    "# limpar valor das linhas captadas + abordar apenas dados que importam\n",
    "for i in range(3,13):\n",
    "\n",
    "    try: \n",
    "        carro[i] = remover_valores(carro[i])\n",
    "        carro[i]['mes'] = i\n",
    "\n",
    "        #Adicionando os valores no dataframe\n",
    "        dados_carros = pd.concat([dados_carros, carro[i]])\n",
    "    except Exception as e: \n",
    "        print(f'nao funcionou{i}')\n",
    "\n",
    "\n",
    "\n"
   ]
  },
  {
   "cell_type": "markdown",
   "metadata": {},
   "source": [
    "#### 2º Parte\n",
    "\n",
    "-  pdf 1 precisou ser feito a mão; \n",
    "-  pdf 4 e 10 não tiveram leitura\n",
    "-  restante dos pdfs foram possiveis de extrair e modelar da forma correta\n",
    "\n"
   ]
  },
  {
   "cell_type": "code",
   "execution_count": 5,
   "metadata": {},
   "outputs": [
    {
     "name": "stdout",
     "output_type": "stream",
     "text": [
      "nao funcionou4\n",
      "nao funcionou10\n"
     ]
    }
   ],
   "source": [
    "\n",
    "dados_carros_acumulados = pd.DataFrame()\n",
    "# limpar valor das linhas captadas + abordar apenas dados que importam\n",
    "for i in range(2,13):\n",
    "\n",
    "    try: \n",
    "        carro_acumulado[i] = remover_valores(carro_acumulado[i])\n",
    "        carro_acumulado[i]['mes'] = i\n",
    "\n",
    "\n",
    "\n",
    "        dados_carros_acumulados = pd.concat([dados_carros_acumulados, carro_acumulado[i]])\n",
    "    except Exception as e: \n",
    "        print(f'nao funcionou{i}')\n",
    "\n",
    "\n"
   ]
  },
  {
   "cell_type": "code",
   "execution_count": 6,
   "metadata": {},
   "outputs": [
    {
     "data": {
      "text/html": [
       "<div>\n",
       "<style scoped>\n",
       "    .dataframe tbody tr th:only-of-type {\n",
       "        vertical-align: middle;\n",
       "    }\n",
       "\n",
       "    .dataframe tbody tr th {\n",
       "        vertical-align: top;\n",
       "    }\n",
       "\n",
       "    .dataframe thead th {\n",
       "        text-align: right;\n",
       "    }\n",
       "</style>\n",
       "<table border=\"1\" class=\"dataframe\">\n",
       "  <thead>\n",
       "    <tr style=\"text-align: right;\">\n",
       "      <th></th>\n",
       "      <th>modelo</th>\n",
       "      <th>quantidade</th>\n",
       "      <th>mes</th>\n",
       "    </tr>\n",
       "  </thead>\n",
       "  <tbody>\n",
       "    <tr>\n",
       "      <th>2</th>\n",
       "      <td>HYUNDAI/HB20</td>\n",
       "      <td>11.795</td>\n",
       "      <td>2</td>\n",
       "    </tr>\n",
       "    <tr>\n",
       "      <th>3</th>\n",
       "      <td>GM/ONIX</td>\n",
       "      <td>11.744</td>\n",
       "      <td>2</td>\n",
       "    </tr>\n",
       "    <tr>\n",
       "      <th>4</th>\n",
       "      <td>JEEP/COMPASS</td>\n",
       "      <td>9.408</td>\n",
       "      <td>2</td>\n",
       "    </tr>\n",
       "    <tr>\n",
       "      <th>5</th>\n",
       "      <td>VW/T CROSS</td>\n",
       "      <td>8.879</td>\n",
       "      <td>2</td>\n",
       "    </tr>\n",
       "    <tr>\n",
       "      <th>6</th>\n",
       "      <td>HYUNDAI/CRETA</td>\n",
       "      <td>8.338</td>\n",
       "      <td>2</td>\n",
       "    </tr>\n",
       "    <tr>\n",
       "      <th>...</th>\n",
       "      <td>...</td>\n",
       "      <td>...</td>\n",
       "      <td>...</td>\n",
       "    </tr>\n",
       "    <tr>\n",
       "      <th>46</th>\n",
       "      <td>BMW/320I</td>\n",
       "      <td>4.909</td>\n",
       "      <td>12</td>\n",
       "    </tr>\n",
       "    <tr>\n",
       "      <th>47</th>\n",
       "      <td>FIAT/SIENA</td>\n",
       "      <td>4.141</td>\n",
       "      <td>12</td>\n",
       "    </tr>\n",
       "    <tr>\n",
       "      <th>48</th>\n",
       "      <td>MITSUBISHI/ECLIPSE CROSS</td>\n",
       "      <td>3.725</td>\n",
       "      <td>12</td>\n",
       "    </tr>\n",
       "    <tr>\n",
       "      <th>49</th>\n",
       "      <td>CAOA CHERY/TIGGO 3X</td>\n",
       "      <td>3.656</td>\n",
       "      <td>12</td>\n",
       "    </tr>\n",
       "    <tr>\n",
       "      <th>50</th>\n",
       "      <td>BMW/X1</td>\n",
       "      <td>3.479</td>\n",
       "      <td>12</td>\n",
       "    </tr>\n",
       "  </tbody>\n",
       "</table>\n",
       "<p>443 rows × 3 columns</p>\n",
       "</div>"
      ],
      "text/plain": [
       "                       modelo quantidade  mes\n",
       "2                HYUNDAI/HB20     11.795    2\n",
       "3                     GM/ONIX     11.744    2\n",
       "4                JEEP/COMPASS      9.408    2\n",
       "5                  VW/T CROSS      8.879    2\n",
       "6               HYUNDAI/CRETA      8.338    2\n",
       "..                        ...        ...  ...\n",
       "46                   BMW/320I      4.909   12\n",
       "47                 FIAT/SIENA      4.141   12\n",
       "48   MITSUBISHI/ECLIPSE CROSS      3.725   12\n",
       "49        CAOA CHERY/TIGGO 3X      3.656   12\n",
       "50                     BMW/X1      3.479   12\n",
       "\n",
       "[443 rows x 3 columns]"
      ]
     },
     "metadata": {},
     "output_type": "display_data"
    },
    {
     "data": {
      "text/html": [
       "<div>\n",
       "<style scoped>\n",
       "    .dataframe tbody tr th:only-of-type {\n",
       "        vertical-align: middle;\n",
       "    }\n",
       "\n",
       "    .dataframe tbody tr th {\n",
       "        vertical-align: top;\n",
       "    }\n",
       "\n",
       "    .dataframe thead th {\n",
       "        text-align: right;\n",
       "    }\n",
       "</style>\n",
       "<table border=\"1\" class=\"dataframe\">\n",
       "  <thead>\n",
       "    <tr style=\"text-align: right;\">\n",
       "      <th></th>\n",
       "      <th>modelo</th>\n",
       "      <th>quantidade</th>\n",
       "      <th>mes</th>\n",
       "    </tr>\n",
       "  </thead>\n",
       "  <tbody>\n",
       "    <tr>\n",
       "      <th>2</th>\n",
       "      <td>HYUNDAI/HB20</td>\n",
       "      <td>6.908</td>\n",
       "      <td>3</td>\n",
       "    </tr>\n",
       "    <tr>\n",
       "      <th>3</th>\n",
       "      <td>FIAT/MOBI</td>\n",
       "      <td>6.581</td>\n",
       "      <td>3</td>\n",
       "    </tr>\n",
       "    <tr>\n",
       "      <th>4</th>\n",
       "      <td>VW/T CROSS</td>\n",
       "      <td>6.549</td>\n",
       "      <td>3</td>\n",
       "    </tr>\n",
       "    <tr>\n",
       "      <th>5</th>\n",
       "      <td>GM/ONIX</td>\n",
       "      <td>5.421</td>\n",
       "      <td>3</td>\n",
       "    </tr>\n",
       "    <tr>\n",
       "      <th>6</th>\n",
       "      <td>GM/TRACKER</td>\n",
       "      <td>4.748</td>\n",
       "      <td>3</td>\n",
       "    </tr>\n",
       "    <tr>\n",
       "      <th>...</th>\n",
       "      <td>...</td>\n",
       "      <td>...</td>\n",
       "      <td>...</td>\n",
       "    </tr>\n",
       "    <tr>\n",
       "      <th>46</th>\n",
       "      <td>MITSUBISHI/PAJERO</td>\n",
       "      <td>349</td>\n",
       "      <td>12</td>\n",
       "    </tr>\n",
       "    <tr>\n",
       "      <th>47</th>\n",
       "      <td>VOLVO/XC60</td>\n",
       "      <td>312</td>\n",
       "      <td>12</td>\n",
       "    </tr>\n",
       "    <tr>\n",
       "      <th>48</th>\n",
       "      <td>VOLVO/XC40</td>\n",
       "      <td>309</td>\n",
       "      <td>12</td>\n",
       "    </tr>\n",
       "    <tr>\n",
       "      <th>49</th>\n",
       "      <td>GM/TRAILBLAZER</td>\n",
       "      <td>296</td>\n",
       "      <td>12</td>\n",
       "    </tr>\n",
       "    <tr>\n",
       "      <th>50</th>\n",
       "      <td>MITSUBISHI/ECLIPSE CROSS</td>\n",
       "      <td>284</td>\n",
       "      <td>12</td>\n",
       "    </tr>\n",
       "  </tbody>\n",
       "</table>\n",
       "<p>394 rows × 3 columns</p>\n",
       "</div>"
      ],
      "text/plain": [
       "                       modelo quantidade  mes\n",
       "2                HYUNDAI/HB20      6.908    3\n",
       "3                   FIAT/MOBI      6.581    3\n",
       "4                  VW/T CROSS      6.549    3\n",
       "5                     GM/ONIX      5.421    3\n",
       "6                  GM/TRACKER      4.748    3\n",
       "..                        ...        ...  ...\n",
       "46          MITSUBISHI/PAJERO        349   12\n",
       "47                 VOLVO/XC60        312   12\n",
       "48                 VOLVO/XC40        309   12\n",
       "49             GM/TRAILBLAZER        296   12\n",
       "50   MITSUBISHI/ECLIPSE CROSS        284   12\n",
       "\n",
       "[394 rows x 3 columns]"
      ]
     },
     "metadata": {},
     "output_type": "display_data"
    }
   ],
   "source": [
    "#alteração dos nomes das colunas\n",
    "dados_carros.columns = ['modelo','quantidade','mes']\n",
    "\n",
    "dados_carros_acumulados.columns = ['modelo','quantidade','mes']\n",
    "\n",
    "display(dados_carros_acumulados)\n",
    "display(dados_carros)"
   ]
  },
  {
   "cell_type": "markdown",
   "metadata": {},
   "source": [
    "#### Parte 3 - Importação dos dados faltantes (pdfs que não foram lidos)"
   ]
  },
  {
   "cell_type": "code",
   "execution_count": 7,
   "metadata": {},
   "outputs": [],
   "source": [
    "#importação dos dados\n",
    "carro_faltante = pd.read_csv('fenabrave - pdf faltantes - carro[pdf_faltante].csv')\n",
    "carro_acumulado_faltante = pd.read_csv('fenabrave - pdf faltantes - carro_acumulado[pdf_faltante].csv')"
   ]
  },
  {
   "cell_type": "markdown",
   "metadata": {},
   "source": [
    "#### Dataframe Final"
   ]
  },
  {
   "cell_type": "code",
   "execution_count": 14,
   "metadata": {},
   "outputs": [],
   "source": [
    "#União de dataframe\n",
    "carro_acumulado = pd.concat([dados_carros_acumulados, carro_acumulado_faltante])\n",
    "carro = pd.concat([dados_carros, carro_faltante])\n",
    "\n",
    "#ordenação dos valores de acordo com o mês\n",
    "carro = carro.sort_values(by = ['mes','quantidade'], ascending =  True)\n",
    "carro_acumulado = carro_acumulado.sort_values(by = ['mes','quantidade'], ascending =  True)\n"
   ]
  },
  {
   "cell_type": "code",
   "execution_count": 16,
   "metadata": {},
   "outputs": [],
   "source": [
    "carro.to_csv('dados_carros_emplacados2022.csv')\n",
    "carro_acumulado.to_csv('dados_carros_acumulados_emplacados2022.csv')\n"
   ]
  }
 ],
 "metadata": {
  "kernelspec": {
   "display_name": "base",
   "language": "python",
   "name": "python3"
  },
  "language_info": {
   "codemirror_mode": {
    "name": "ipython",
    "version": 3
   },
   "file_extension": ".py",
   "mimetype": "text/x-python",
   "name": "python",
   "nbconvert_exporter": "python",
   "pygments_lexer": "ipython3",
   "version": "3.11.5"
  }
 },
 "nbformat": 4,
 "nbformat_minor": 2
}
